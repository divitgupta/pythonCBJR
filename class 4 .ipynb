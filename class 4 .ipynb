{
 "cells": [
  {
   "cell_type": "code",
   "execution_count": 20,
   "metadata": {},
   "outputs": [
    {
     "name": "stdout",
     "output_type": "stream",
     "text": [
      "2\n",
      "average is 35.0\n"
     ]
    }
   ],
   "source": [
    "ilist=(10,23,45,60,15)\n",
    "sum=0\n",
    "cout=0\n",
    "for x in ilist:\n",
    "    if x%2==0:\n",
    "        sum+=x\n",
    "        cout+=1\n",
    "average=sum/cout \n",
    "print(cout)\n",
    "print(\"average is\",average)"
   ]
  },
  {
   "cell_type": "code",
   "execution_count": 21,
   "metadata": {},
   "outputs": [
    {
     "name": "stdout",
     "output_type": "stream",
     "text": [
      "1: 1\n",
      "1: 1\n",
      "3 : 2\n",
      "4 : 3\n",
      "5 : 5\n",
      "6 : 8\n",
      "7 : 13\n",
      "8 : 21\n",
      "9 : 34\n",
      "10 : 55\n",
      "11 : 89\n",
      "12 : 144\n",
      "13 : 233\n",
      "14 : 377\n",
      "15 : 610\n",
      "16 : 987\n",
      "17 : 1597\n",
      "18 : 2584\n",
      "19 : 4181\n",
      "20 : 6765\n"
     ]
    }
   ],
   "source": [
    "count=20\n",
    "i=1;\n",
    "j=1;\n",
    "print(\"1:\",i)\n",
    "print(\"1:\",j)\n",
    "for x in range (3,count+1):\n",
    "    print(x,\":\",i+j)\n",
    "    i,j=j,i+j\n",
    "    "
   ]
  },
  {
   "cell_type": "code",
   "execution_count": 24,
   "metadata": {},
   "outputs": [
    {
     "name": "stdout",
     "output_type": "stream",
     "text": [
      "1: 1\n",
      "1: 1\n",
      "35 : 2\n",
      "36 : 3\n",
      "37 : 5\n",
      "38 : 8\n",
      "39 : 13\n",
      "40 : 21\n",
      "41 : 34\n",
      "42 : 55\n",
      "43 : 89\n",
      "44 : 144\n",
      "45 : 233\n",
      "46 : 377\n",
      "47 : 610\n",
      "48 : 987\n"
     ]
    }
   ],
   "source": [
    "limit=1000\n",
    "i=1;\n",
    "j=1;\n",
    "print(\"1:\",i)\n",
    "print(\"1:\",j)\n",
    "while i+j<limit:\n",
    "    count+=1\n",
    "    print(count,\":\",i+j)\n",
    "    i,j=j,i+j"
   ]
  },
  {
   "cell_type": "code",
   "execution_count": 1,
   "metadata": {},
   "outputs": [
    {
     "name": "stdin",
     "output_type": "stream",
     "text": [
      "enter number:  10\n"
     ]
    },
    {
     "name": "stdout",
     "output_type": "stream",
     "text": [
      "2 inside if\n",
      "not a prime number\n",
      "10 is a prime number\n"
     ]
    }
   ],
   "source": [
    "num=int(input(\"enter number: \"))\n",
    "for x in range (2,num):\n",
    "    #x=2, x=3, x=4...........x=10 \n",
    "    if num %x==0:\n",
    "        print(x,\"inside if\")\n",
    "        print(\"not a prime number\")\n",
    "        break \n",
    "print(num,\"is a prime number\")"
   ]
  },
  {
   "cell_type": "code",
   "execution_count": 9,
   "metadata": {},
   "outputs": [
    {
     "name": "stdin",
     "output_type": "stream",
     "text": [
      "enter number:  51\n"
     ]
    },
    {
     "name": "stdout",
     "output_type": "stream",
     "text": [
      "is not a prime number\n",
      "\n"
     ]
    }
   ],
   "source": [
    "num=int(input(\"enter number: \"))\n",
    "for x in range (2,num):\n",
    "    #x=2, x=3, x=4...........x=10 \n",
    "    if num %x==0:\n",
    "        print(\"is not a prime number\")\n",
    "        break \n",
    "else:\n",
    "    print(num,\":is a prime number \")\n",
    "print()"
   ]
  },
  {
   "cell_type": "code",
   "execution_count": 12,
   "metadata": {},
   "outputs": [
    {
     "name": "stdin",
     "output_type": "stream",
     "text": [
      "enter number:  10\n"
     ]
    },
    {
     "name": "stdout",
     "output_type": "stream",
     "text": [
      "is not a prime number\n"
     ]
    }
   ],
   "source": [
    "num=int(input(\"enter number: \"))\n",
    "x=2\n",
    "while x<num:\n",
    "    #x=2, x=3, x=4...........x=10 \n",
    "    if num %x==0:\n",
    "        print(\"is not a prime number\")\n",
    "        break\n",
    "    x+=1\n",
    "else:\n",
    "    print(num,\":is a prime number \")\n"
   ]
  },
  {
   "cell_type": "code",
   "execution_count": 26,
   "metadata": {},
   "outputs": [
    {
     "name": "stdout",
     "output_type": "stream",
     "text": [
      "x= 1 inside x loop\n",
      "y= 1 inside y loop\n",
      "z= inside z loop\n",
      "1 , 1 , 1 z= inside z loop\n",
      "1 , 1 , 2 \n",
      "y= 2 inside y loop\n",
      "z= inside z loop\n",
      "1 , 2 , 1 z= inside z loop\n",
      "1 , 2 , 2 \n",
      "y= 3 inside y loop\n",
      "z= inside z loop\n",
      "1 , 3 , 1 z= inside z loop\n",
      "1 , 3 , 2 \n",
      "\n",
      "\n",
      "x= 2 inside x loop\n",
      "y= 1 inside y loop\n",
      "z= inside z loop\n",
      "2 , 1 , 1 z= inside z loop\n",
      "2 , 1 , 2 \n",
      "y= 2 inside y loop\n",
      "z= inside z loop\n",
      "2 , 2 , 1 z= inside z loop\n",
      "2 , 2 , 2 \n",
      "y= 3 inside y loop\n",
      "z= inside z loop\n",
      "2 , 3 , 1 z= inside z loop\n",
      "2 , 3 , 2 \n",
      "\n",
      "\n",
      "x= 3 inside x loop\n",
      "y= 1 inside y loop\n",
      "z= inside z loop\n",
      "3 , 1 , 1 z= inside z loop\n",
      "3 , 1 , 2 \n",
      "y= 2 inside y loop\n",
      "z= inside z loop\n",
      "3 , 2 , 1 z= inside z loop\n",
      "3 , 2 , 2 \n",
      "y= 3 inside y loop\n",
      "z= inside z loop\n",
      "3 , 3 , 1 z= inside z loop\n",
      "3 , 3 , 2 \n",
      "\n",
      "\n",
      "x= 4 inside x loop\n",
      "y= 1 inside y loop\n",
      "z= inside z loop\n",
      "4 , 1 , 1 z= inside z loop\n",
      "4 , 1 , 2 \n",
      "y= 2 inside y loop\n",
      "z= inside z loop\n",
      "4 , 2 , 1 z= inside z loop\n",
      "4 , 2 , 2 \n",
      "y= 3 inside y loop\n",
      "z= inside z loop\n",
      "4 , 3 , 1 z= inside z loop\n",
      "4 , 3 , 2 \n",
      "\n",
      "\n"
     ]
    }
   ],
   "source": [
    "xcount=4\n",
    "ycount=3\n",
    "zcount=2\n",
    "for x in range (1,xcount+1):\n",
    "    print(\"x=\",x,\"inside x loop\")\n",
    "    for y in range (1,ycount+1):\n",
    "        print(\"y=\",y,\"inside y loop\")\n",
    "        for z in range(1,zcount+1):\n",
    "            print(\"z=\",\"inside z loop\")\n",
    "            print(x,\",\",y,\",\",z,end=\" \")#start a for loop and run it ycount times \n",
    "        print()\n",
    "    print()#move pointer to next line \n",
    "    print()#leave a blank line "
   ]
  },
  {
   "cell_type": "code",
   "execution_count": null,
   "metadata": {},
   "outputs": [],
   "source": []
  }
 ],
 "metadata": {
  "kernelspec": {
   "display_name": "Python 3",
   "language": "python",
   "name": "python3"
  },
  "language_info": {
   "codemirror_mode": {
    "name": "ipython",
    "version": 3
   },
   "file_extension": ".py",
   "mimetype": "text/x-python",
   "name": "python",
   "nbconvert_exporter": "python",
   "pygments_lexer": "ipython3",
   "version": "3.8.3"
  }
 },
 "nbformat": 4,
 "nbformat_minor": 4
}
