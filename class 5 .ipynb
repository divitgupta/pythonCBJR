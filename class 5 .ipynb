{
 "cells": [
  {
   "cell_type": "code",
   "execution_count": 2,
   "metadata": {},
   "outputs": [
    {
     "name": "stdout",
     "output_type": "stream",
     "text": [
      "loop for i=  1 started\n",
      "| \t loop for j= 1\n",
      "| \t loop for j= 2\n",
      "| \t loop for j= 3\n",
      "\n",
      "loop for i=  2 started\n",
      "| \t loop for j= 1\n",
      "| \t loop for j= 2\n",
      "| \t loop for j= 3\n",
      "\n"
     ]
    }
   ],
   "source": [
    "i_loop_count=2\n",
    "j_loop_count=3\n",
    "for i in range (1,i_loop_count +1 ):\n",
    "    print(\"loop for i= \",i,\"started\")\n",
    "    for j in range (1,j_loop_count+1):\n",
    "        print(\"|\",\"\\t loop for j=\",j)\n",
    "    print()"
   ]
  },
  {
   "cell_type": "code",
   "execution_count": 4,
   "metadata": {},
   "outputs": [
    {
     "name": "stdout",
     "output_type": "stream",
     "text": [
      "loop for i= 0 started\n",
      "| \t loop for j= 0\n",
      "| \t \t\tloop for k= 0\n",
      "| \t \t\tloop for k= 1\n",
      "| \t \t\tloop for k= 2\n",
      "| \t \t\tloop for k= 3\n",
      "| \t \t\tloop for k= 4\n",
      "\n",
      "| \t loop for j= 1\n",
      "| \t \t\tloop for k= 0\n",
      "| \t \t\tloop for k= 1\n",
      "| \t \t\tloop for k= 2\n",
      "| \t \t\tloop for k= 3\n",
      "| \t \t\tloop for k= 4\n",
      "\n",
      "| \t loop for j= 2\n",
      "| \t \t\tloop for k= 0\n",
      "| \t \t\tloop for k= 1\n",
      "| \t \t\tloop for k= 2\n",
      "| \t \t\tloop for k= 3\n",
      "| \t \t\tloop for k= 4\n",
      "\n",
      "| \t loop for j= 3\n",
      "| \t \t\tloop for k= 0\n",
      "| \t \t\tloop for k= 1\n",
      "| \t \t\tloop for k= 2\n",
      "| \t \t\tloop for k= 3\n",
      "| \t \t\tloop for k= 4\n",
      "\n",
      "loop for i= 1 started\n",
      "| \t loop for j= 0\n",
      "| \t \t\tloop for k= 0\n",
      "| \t \t\tloop for k= 1\n",
      "| \t \t\tloop for k= 2\n",
      "| \t \t\tloop for k= 3\n",
      "| \t \t\tloop for k= 4\n",
      "\n",
      "| \t loop for j= 1\n",
      "| \t \t\tloop for k= 0\n",
      "| \t \t\tloop for k= 1\n",
      "| \t \t\tloop for k= 2\n",
      "| \t \t\tloop for k= 3\n",
      "| \t \t\tloop for k= 4\n",
      "\n",
      "| \t loop for j= 2\n",
      "| \t \t\tloop for k= 0\n",
      "| \t \t\tloop for k= 1\n",
      "| \t \t\tloop for k= 2\n",
      "| \t \t\tloop for k= 3\n",
      "| \t \t\tloop for k= 4\n",
      "\n",
      "| \t loop for j= 3\n",
      "| \t \t\tloop for k= 0\n",
      "| \t \t\tloop for k= 1\n",
      "| \t \t\tloop for k= 2\n",
      "| \t \t\tloop for k= 3\n",
      "| \t \t\tloop for k= 4\n",
      "\n",
      "loop for i= 2 started\n",
      "| \t loop for j= 0\n",
      "| \t \t\tloop for k= 0\n",
      "| \t \t\tloop for k= 1\n",
      "| \t \t\tloop for k= 2\n",
      "| \t \t\tloop for k= 3\n",
      "| \t \t\tloop for k= 4\n",
      "\n",
      "| \t loop for j= 1\n",
      "| \t \t\tloop for k= 0\n",
      "| \t \t\tloop for k= 1\n",
      "| \t \t\tloop for k= 2\n",
      "| \t \t\tloop for k= 3\n",
      "| \t \t\tloop for k= 4\n",
      "\n",
      "| \t loop for j= 2\n",
      "| \t \t\tloop for k= 0\n",
      "| \t \t\tloop for k= 1\n",
      "| \t \t\tloop for k= 2\n",
      "| \t \t\tloop for k= 3\n",
      "| \t \t\tloop for k= 4\n",
      "\n",
      "| \t loop for j= 3\n",
      "| \t \t\tloop for k= 0\n",
      "| \t \t\tloop for k= 1\n",
      "| \t \t\tloop for k= 2\n",
      "| \t \t\tloop for k= 3\n",
      "| \t \t\tloop for k= 4\n",
      "\n"
     ]
    }
   ],
   "source": [
    "i_loop_count=2\n",
    "j_loop_count=3\n",
    "k_loop_count=4\n",
    "for i in range(1+i_loop_count):\n",
    "    print(\"loop for i=\",i,\"started\")\n",
    "    for j in range (1+j_loop_count):\n",
    "        print(\"|\",\"\\t loop for j=\",j)\n",
    "        for k in range(1+k_loop_count):\n",
    "            print(\"|\",\"\\t\",\"\\t\\t\"\"loop for k=\",k)\n",
    "        print()"
   ]
  },
  {
   "cell_type": "code",
   "execution_count": 8,
   "metadata": {},
   "outputs": [
    {
     "name": "stdout",
     "output_type": "stream",
     "text": [
      "1 , 1 | 1 , 2 | 1 , 3 | 1 , 4 | 1 , 5 | \n",
      "2 , 1 | 2 , 2 | 2 , 3 | 2 , 4 | 2 , 5 | \n",
      "3 , 1 | 3 , 2 | 3 , 3 | 3 , 4 | 3 , 5 | \n",
      "4 , 1 | 4 , 2 | 4 , 3 | 4 , 4 | 4 , 5 | \n",
      "5 , 1 | 5 , 2 | 5 , 3 | 5 , 4 | 5 , 5 | \n"
     ]
    }
   ],
   "source": [
    "for i in range(1,6):\n",
    "    for j in range(1,6):\n",
    "        print(i,\",\",j,\"|\", end=\" \")\n",
    "    print()"
   ]
  },
  {
   "cell_type": "code",
   "execution_count": 12,
   "metadata": {},
   "outputs": [
    {
     "name": "stdout",
     "output_type": "stream",
     "text": [
      "1\n",
      "22\n",
      "333\n",
      "4444\n",
      "55555\n",
      "666666\n",
      "7777777\n",
      "88888888\n",
      "999999999\n",
      "10101010101010101010\n"
     ]
    }
   ],
   "source": [
    "cout=10\n",
    "for i in range(1,cout+1):\n",
    "    for j in range(1,i+1):\n",
    "        print(i, end=\"\")\n",
    "    print()"
   ]
  },
  {
   "cell_type": "code",
   "execution_count": 32,
   "metadata": {},
   "outputs": [
    {
     "name": "stdout",
     "output_type": "stream",
     "text": [
      "[70, 80, 90, 100]\n",
      "70,80,90,100,\n",
      "1530,\n",
      "[10, 20, 30, 40]\n",
      "10,20,30,40,\n",
      "1630,\n",
      "[1, 2, 3, 4, 5]\n",
      "1,2,3,4,5,\n",
      "1645,\n",
      "[50, 60]\n",
      "50,60,\n",
      "1755,\n",
      "\n",
      "sum of elements is 1755\n"
     ]
    }
   ],
   "source": [
    "darray=[[70,80,90,100],[10,20,30,40],[1,2,3,4,5],[50,60]]\n",
    "for x in darray:\n",
    "    print(x)\n",
    "    for y in x:\n",
    "        print(y,end=\",\")\n",
    "        sum+=y\n",
    "    print()\n",
    "    print(sum,end=\",\")\n",
    "    print()\n",
    "print()\n",
    "print(\"sum of elements is\",sum)"
   ]
  },
  {
   "cell_type": "code",
   "execution_count": 35,
   "metadata": {},
   "outputs": [
    {
     "name": "stdout",
     "output_type": "stream",
     "text": [
      "sum= 565\n"
     ]
    }
   ],
   "source": [
    "darray=[[70,80,90,100],[10,20,30,40],[1,2,3,4,5],[50,60]]\n",
    "sum=0\n",
    "for i in range(0,len(darray)):\n",
    "    for j in range(0,len(darray[i])):\n",
    "        sum+=darray[i][j]\n",
    "print(\"sum=\",sum)"
   ]
  },
  {
   "cell_type": "code",
   "execution_count": 38,
   "metadata": {},
   "outputs": [
    {
     "name": "stdout",
     "output_type": "stream",
     "text": [
      "[70, 80, 90, 100]\n",
      "70\n"
     ]
    }
   ],
   "source": [
    "darray=[[70,80,90,100],[10,20,30,40],[1,2,3,4,5],[50,60]]\n",
    "sum=0\n",
    "print(darray[0])\n",
    "print(darray[0][0])"
   ]
  },
  {
   "cell_type": "code",
   "execution_count": null,
   "metadata": {},
   "outputs": [],
   "source": []
  }
 ],
 "metadata": {
  "kernelspec": {
   "display_name": "Python 3",
   "language": "python",
   "name": "python3"
  },
  "language_info": {
   "codemirror_mode": {
    "name": "ipython",
    "version": 3
   },
   "file_extension": ".py",
   "mimetype": "text/x-python",
   "name": "python",
   "nbconvert_exporter": "python",
   "pygments_lexer": "ipython3",
   "version": "3.8.3"
  }
 },
 "nbformat": 4,
 "nbformat_minor": 4
}
