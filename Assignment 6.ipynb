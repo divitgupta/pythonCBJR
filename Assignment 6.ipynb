{
 "cells": [
  {
   "cell_type": "code",
   "execution_count": 1,
   "metadata": {},
   "outputs": [],
   "source": [
    "import turtle\n",
    "win=turtle.Screen()\n",
    "t=turtle.Turtle()\n",
    "t.pensize(6)\n",
    "\n",
    "firstrowcolumns=[\"blue\",\"black\",\"red\"]\n",
    "for i in range(3):\n",
    "    t.penup()\n",
    "    t.pencolor(firstrowcolumns[i])\n",
    "    t.goto(i*110,0)\n",
    "    t.pendown()\n",
    "    t.circle(50)\n",
    "secondrowcolumns=[\"\",\"yellow\",\"\",\"green\"]\n",
    "for i in range(1,4,2):\n",
    "    t.penup()\n",
    "    t.pencolor(secondrowcolumns[i])\n",
    "    t.goto(i*50,-55)\n",
    "    t.pendown()\n",
    "    t.circle(50)"
   ]
  },
  {
   "cell_type": "code",
   "execution_count": null,
   "metadata": {},
   "outputs": [],
   "source": []
  }
 ],
 "metadata": {
  "kernelspec": {
   "display_name": "Python 3",
   "language": "python",
   "name": "python3"
  },
  "language_info": {
   "codemirror_mode": {
    "name": "ipython",
    "version": 3
   },
   "file_extension": ".py",
   "mimetype": "text/x-python",
   "name": "python",
   "nbconvert_exporter": "python",
   "pygments_lexer": "ipython3",
   "version": "3.8.3"
  }
 },
 "nbformat": 4,
 "nbformat_minor": 4
}
