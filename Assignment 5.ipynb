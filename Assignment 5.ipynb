{
 "cells": [
  {
   "cell_type": "code",
   "execution_count": 8,
   "metadata": {},
   "outputs": [
    {
     "name": "stdout",
     "output_type": "stream",
     "text": [
      "[1, 2, 3]\n",
      "1,2,3,\n",
      "95,\n",
      "[1, 2, 6]\n",
      "1,2,6,\n",
      "104,\n",
      "[5, 6, 7]\n",
      "5,6,7,\n",
      "122,\n",
      "[67, 89]\n",
      "67,89,\n",
      "278,\n",
      "\n",
      "sum of elements is 278\n"
     ]
    }
   ],
   "source": [
    "darray=[[1,2,3],[1,2,6],[5,6,7],[67,89]]\n",
    "for x in darray:\n",
    "    print(x)\n",
    "    for y in x:\n",
    "        print(y,end=\",\")\n",
    "        sum+=y\n",
    "    print()\n",
    "    print(sum,end=\",\")\n",
    "    print()\n",
    "print()\n",
    "print(\"sum of elements is\",sum)"
   ]
  },
  {
   "cell_type": "code",
   "execution_count": 7,
   "metadata": {},
   "outputs": [
    {
     "name": "stdout",
     "output_type": "stream",
     "text": [
      "loop for i=  [1] started\n",
      "| \t loop for j= 1\n",
      "\n",
      "loop for i=  [1, 2] started\n",
      "| \t loop for j= 1\n",
      "| \t loop for j= 2\n",
      "\n",
      "loop for i=  [1, 2, 3] started\n",
      "| \t loop for j= 1\n",
      "| \t loop for j= 2\n",
      "| \t loop for j= 3\n",
      "\n",
      "loop for i=  [1, 2, 3, 4] started\n",
      "| \t loop for j= 1\n",
      "| \t loop for j= 2\n",
      "| \t loop for j= 3\n",
      "| \t loop for j= 4\n",
      "\n",
      "loop for i=  [1, 2, 3, 4, 5] started\n",
      "| \t loop for j= 1\n",
      "| \t loop for j= 2\n",
      "| \t loop for j= 3\n",
      "| \t loop for j= 4\n",
      "| \t loop for j= 5\n",
      "\n",
      "loop for i=  [1, 2, 3, 4, 5, 6] started\n",
      "| \t loop for j= 1\n",
      "| \t loop for j= 2\n",
      "| \t loop for j= 3\n",
      "| \t loop for j= 4\n",
      "| \t loop for j= 5\n",
      "| \t loop for j= 6\n",
      "\n"
     ]
    }
   ],
   "source": [
    "darray=[[1],[1,2],[1,2,3],[1,2,3,4],[1,2,3,4,5],[1,2,3,4,5,6]]\n",
    "i_loop_count=2\n",
    "j_loop_count=3\n",
    "for i in darray:\n",
    "    print(\"loop for i= \",i,\"started\")\n",
    "    for j in i:\n",
    "        print(\"|\",\"\\t loop for j=\",j)\n",
    "    print()"
   ]
  },
  {
   "cell_type": "code",
   "execution_count": 31,
   "metadata": {},
   "outputs": [
    {
     "name": "stdout",
     "output_type": "stream",
     "text": [
      "product of the items in list = 360642240\n",
      "sum of the items in the list = 192\n",
      "sum of product = 6227\n",
      "product of sum = 202176\n",
      "difference = 195949\n"
     ]
    }
   ],
   "source": [
    "li = [[1,2,3],[4,2,6],[5,6,7],[67,89]]\n",
    "lia = li[0]\n",
    "lib = li[1]\n",
    "lic = li[2]\n",
    "lid = li[3]\n",
    "p = 1\n",
    "s = 0\n",
    "for i in li:\n",
    "    for j in i:\n",
    "        p*=j\n",
    "        s += j\n",
    "\n",
    "\n",
    "print(\"product of the items in list =\",p)\n",
    "print(\"sum of the items in the list =\",s)\n",
    "a = 1\n",
    "b = 1\n",
    "c = 1\n",
    "d = 1\n",
    "e = 0\n",
    "f = 0\n",
    "g = 0\n",
    "h = 0\n",
    "for x in lia:\n",
    "    a *= x\n",
    "    f += x\n",
    "for y in lib:\n",
    "    b *= y\n",
    "    g += y\n",
    "for z in lic:\n",
    "    c *= z\n",
    "    e += z\n",
    "for k in lid:\n",
    "    d *= k\n",
    "    h += k\n",
    "print(\"sum of product =\",a + b + c + d)\n",
    "print(\"product of sum =\",e * f * g * h)\n",
    "print(\"difference =\",(e * f * g * h)-(a + b + c + d))"
   ]
  },
  {
   "cell_type": "code",
   "execution_count": null,
   "metadata": {},
   "outputs": [],
   "source": []
  }
 ],
 "metadata": {
  "kernelspec": {
   "display_name": "Python 3",
   "language": "python",
   "name": "python3"
  },
  "language_info": {
   "codemirror_mode": {
    "name": "ipython",
    "version": 3
   },
   "file_extension": ".py",
   "mimetype": "text/x-python",
   "name": "python",
   "nbconvert_exporter": "python",
   "pygments_lexer": "ipython3",
   "version": "3.8.3"
  }
 },
 "nbformat": 4,
 "nbformat_minor": 4
}
