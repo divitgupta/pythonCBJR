{
 "cells": [
  {
   "cell_type": "code",
   "execution_count": null,
   "metadata": {},
   "outputs": [],
   "source": [
    "def PrintMesage():\n",
    "    for i in range(10):\n",
    "        print(\"hello world\")\n",
    "print(\"greatest message is coming\")\n",
    "PrintMesage()\n",
    "print(\"how are you\")\n",
    "print(\"life is good\")\n",
    "PrintMesage()"
   ]
  },
  {
   "cell_type": "code",
   "execution_count": null,
   "metadata": {},
   "outputs": [],
   "source": [
    "def PrintMesage():\n",
    "    for i in range(10):\n",
    "        print(\"am i lucky?\")\n",
    "def PrintMessage():\n",
    "    for i in range(10):\n",
    "        print(\"i am fine\")\n",
    "def Print():\n",
    "    for i in range(10):\n",
    "        print(\"I know that's why i am living\")\n",
    "def square():\n",
    "    for i in range(10):\n",
    "        print(\"Ok i am going stop being rude,bye\")\n",
    "print(\"greatest message is coming\")\n",
    "PrintMesage()\n",
    "print(\"how are you?\")\n",
    "PrintMessage()\n",
    "print(\"life is good\")\n",
    "Print()\n",
    "print(\"you have wasted a lot of time now go and do your work and don't waste my time\")\n",
    "square()le"
   ]
  },
  {
   "cell_type": "code",
   "execution_count": null,
   "metadata": {},
   "outputs": [],
   "source": [
    "def PrintIntegers(*values):\n",
    "    print(values)\n",
    "    for x in values:\n",
    "        print(x)\n",
    "        \n",
    "PrintIntegers(3,4,6,10,12,14)"
   ]
  },
  {
   "cell_type": "code",
   "execution_count": null,
   "metadata": {},
   "outputs": [],
   "source": [
    "def printvalue(a,b,c):\n",
    "    print(\"a=\",a)\n",
    "    print(\"b=\",b)\n",
    "    print(\"c=\",c)\n",
    "\n",
    "printvalue(10,20,30)\n",
    "printvalue(c=\"10\",b=\"20\",a=\"30\")"
   ]
  },
  {
   "cell_type": "code",
   "execution_count": null,
   "metadata": {},
   "outputs": [],
   "source": [
    "def add(a,b,c):\n",
    "    return a+b+c\n",
    "\n",
    "print(add(2,3,4))"
   ]
  },
  {
   "cell_type": "code",
   "execution_count": null,
   "metadata": {},
   "outputs": [],
   "source": [
    "def IntegerInput(ilist):\n",
    "    while True:\n",
    "        number=int(input(\"Enter next number:\"))\n",
    "        if number!=0:\n",
    "            ilist.append(number)\n",
    "        else:\n",
    "            break\n",
    "        \n",
    "def Printsorted(ilist):\n",
    "    ilist.sort()\n",
    "    for x in ilist:\n",
    "        print(x)\n",
    "        \n",
    "        \n",
    "ilist=[]\n",
    "IntegerInput(ilist)\n",
    "Printsorted(ilist)"
   ]
  }
 ],
 "metadata": {
  "kernelspec": {
   "display_name": "Python 3",
   "language": "python",
   "name": "python3"
  },
  "language_info": {
   "codemirror_mode": {
    "name": "ipython",
    "version": 3
   },
   "file_extension": ".py",
   "mimetype": "text/x-python",
   "name": "python",
   "nbconvert_exporter": "python",
   "pygments_lexer": "ipython3",
   "version": "3.8.3"
  }
 },
 "nbformat": 4,
 "nbformat_minor": 4
}
