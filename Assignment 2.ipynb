{
 "cells": [
  {
   "cell_type": "code",
   "execution_count": 2,
   "metadata": {},
   "outputs": [
    {
     "name": "stdin",
     "output_type": "stream",
     "text": [
      "enter a number -111\n"
     ]
    },
    {
     "name": "stdout",
     "output_type": "stream",
     "text": [
      "the number is negative\n"
     ]
    }
   ],
   "source": [
    "number=int(input(\"enter a number\"))\n",
    "if number>0:\n",
    "    print(\"the number is positive\")\n",
    "\n",
    "else:\n",
    "    print(\"the number is negative\")"
   ]
  },
  {
   "cell_type": "code",
   "execution_count": 5,
   "metadata": {},
   "outputs": [
    {
     "name": "stdin",
     "output_type": "stream",
     "text": [
      "enter a number 40\n"
     ]
    },
    {
     "name": "stdout",
     "output_type": "stream",
     "text": [
      "Hi i am above than 5\n"
     ]
    }
   ],
   "source": [
    "number=int(input(\"enter a number\"))\n",
    "if number>5:\n",
    "    print(\"Hi i am above than 5\")\n",
    " \n",
    "else:\n",
    "    print(\"Hi i am a smaller number \")"
   ]
  },
  {
   "cell_type": "code",
   "execution_count": 31,
   "metadata": {},
   "outputs": [
    {
     "name": "stdin",
     "output_type": "stream",
     "text": [
      "enter your marks: 90\n"
     ]
    },
    {
     "name": "stdout",
     "output_type": "stream",
     "text": [
      "you have got some excellent skills in subjects \n"
     ]
    }
   ],
   "source": [
    "marks=int(input(\"enter your marks:\"))\n",
    "if marks<33:\n",
    "    print(\"you have failed\")\n",
    "\n",
    "elif marks>=33 and marks<60:\n",
    "    print(\"you have passed but score isn't satisfactory\")\n",
    "\n",
    "elif marks>=60 and marks<80:\n",
    "    print(\"you have scored well in the test\")\n",
    "    \n",
    "elif marks>80:\n",
    "    print(\"you have got some excellent skills in subjects \")\n",
    "    "
   ]
  },
  {
   "cell_type": "code",
   "execution_count": 38,
   "metadata": {},
   "outputs": [
    {
     "name": "stdin",
     "output_type": "stream",
     "text": [
      "enter the temperature of the place 45\n"
     ]
    },
    {
     "name": "stdout",
     "output_type": "stream",
     "text": [
      "it is super hot outside\n"
     ]
    }
   ],
   "source": [
    "temp=int(input(\"enter the temperature of the place\"))\n",
    "if temp<5:\n",
    "    print(\"it is super cold outside\")\n",
    "\n",
    "elif temp>=5 and temp<15:\n",
    "    print(\"it is bit cloudy outside\")\n",
    "\n",
    "elif temp<25:\n",
    "    print(\"weather is nice outside\")\n",
    "\n",
    "elif temp>=25 and temp<35:\n",
    "    print(\"it is bit hot outside\")\n",
    "\n",
    "else:\n",
    "    print(\"it is super hot outside\")\n",
    "    "
   ]
  },
  {
   "cell_type": "code",
   "execution_count": 41,
   "metadata": {},
   "outputs": [
    {
     "name": "stdin",
     "output_type": "stream",
     "text": [
      "enter a number 5\n"
     ]
    },
    {
     "name": "stdout",
     "output_type": "stream",
     "text": [
      "i am multiple of 5 \n"
     ]
    }
   ],
   "source": [
    "num=int(input(\"enter a number\"))\n",
    "if 5%num==0:\n",
    "    print (\"i am multiple of 5 \")\n",
    "else:\n",
    "    print(\"i am not a multiple of 5 \")\n",
    "    "
   ]
  },
  {
   "cell_type": "code",
   "execution_count": 1,
   "metadata": {},
   "outputs": [
    {
     "name": "stdin",
     "output_type": "stream",
     "text": [
      "enter a number 2\n"
     ]
    },
    {
     "name": "stdout",
     "output_type": "stream",
     "text": [
      "this number is even\n"
     ]
    }
   ],
   "source": [
    "num=int(input(\"enter a number\"))\n",
    "if num%2==0:\n",
    "    print(\"this number is even\")\n",
    "else:\n",
    "    print(\"this number is odd\")"
   ]
  },
  {
   "cell_type": "code",
   "execution_count": 2,
   "metadata": {},
   "outputs": [
    {
     "name": "stdin",
     "output_type": "stream",
     "text": [
      "enter a number 35\n"
     ]
    },
    {
     "name": "stdout",
     "output_type": "stream",
     "text": [
      "yes am divisible \n"
     ]
    }
   ],
   "source": [
    "num=int(input(\"enter a number\"))\n",
    "if num%5==0 and num%7==0:\n",
    "    print(\"yes am divisible \")\n",
    "else:\n",
    "    print(\"am not divisible\")"
   ]
  },
  {
   "cell_type": "code",
   "execution_count": 3,
   "metadata": {},
   "outputs": [
    {
     "name": "stdin",
     "output_type": "stream",
     "text": [
      "enter value of a  10\n",
      "enter value of b 25\n",
      "enter value of c 80\n"
     ]
    },
    {
     "name": "stdout",
     "output_type": "stream",
     "text": [
      "c is the largest number \n"
     ]
    }
   ],
   "source": [
    "a=int(input(\"enter value of a \"))\n",
    "b=int(input(\"enter value of b\"))\n",
    "c=int(input(\"enter value of c\"))\n",
    "if a<b<c:\n",
    "    print(\"c is the largest number \")\n",
    "elif c<b<a:\n",
    "    print(\"a is largest number\")\n",
    "else:\n",
    "    print(\"b is largest number\")"
   ]
  },
  {
   "cell_type": "code",
   "execution_count": 4,
   "metadata": {},
   "outputs": [
    {
     "name": "stdin",
     "output_type": "stream",
     "text": [
      "enter a vslue 30\n"
     ]
    },
    {
     "name": "stdout",
     "output_type": "stream",
     "text": [
      "the number is divitsible by 5 but not by 7\n"
     ]
    }
   ],
   "source": [
    "num=int(input(\"enter a vslue\"))\n",
    "if num%5==0 and num%7!=0:\n",
    "    print(\"the number is divitsible by 5 but not by 7\")\n",
    "else:\n",
    "    print(\"not possible\")"
   ]
  },
  {
   "cell_type": "code",
   "execution_count": 5,
   "metadata": {},
   "outputs": [
    {
     "name": "stdin",
     "output_type": "stream",
     "text": [
      "enter a value 21\n"
     ]
    },
    {
     "name": "stdout",
     "output_type": "stream",
     "text": [
      "the number is divisible either by 5 or 7\n"
     ]
    }
   ],
   "source": [
    "num=int(input(\"enter a value\"))\n",
    "if num%5==0 or num%7==0:\n",
    "    print(\"the number is divisible either by 5 or 7\")\n",
    "else:\n",
    "    print(\"the number is not divisible by any number\")"
   ]
  },
  {
   "cell_type": "code",
   "execution_count": 8,
   "metadata": {},
   "outputs": [
    {
     "name": "stdin",
     "output_type": "stream",
     "text": [
      "give me a colour  green \n"
     ]
    },
    {
     "name": "stdout",
     "output_type": "stream",
     "text": [
      "choose valid colors only\n"
     ]
    }
   ],
   "source": [
    "colour=input(\"give me a colour \")\n",
    "if colour==\"red\":\n",
    "    print(\"danger ahead switch off your engine\")\n",
    "elif colour==\"yellow\":\n",
    "    print(\"start your engine\")\n",
    "elif colour==\"green\":\n",
    "    print(\"let's go \")\n",
    "else:\n",
    "    print(\"choose valid colors only\")\n",
    "    "
   ]
  },
  {
   "cell_type": "code",
   "execution_count": 9,
   "metadata": {},
   "outputs": [
    {
     "name": "stdin",
     "output_type": "stream",
     "text": [
      "enter a value 10\n",
      "enter a value 11\n",
      "enter a value 19\n"
     ]
    },
    {
     "name": "stdout",
     "output_type": "stream",
     "text": [
      "the roots of equation are (-54.99999999999999+126.39224659764538j) (-55.00000000000001-126.39224659764538j)\n"
     ]
    }
   ],
   "source": [
    "a=int(input(\"enter a value\"))\n",
    "b=int(input(\"enter a value\"))\n",
    "c=int(input(\"enter a value\"))\n",
    "\n",
    "d=b**2-4*a*c\n",
    "root1= (-b+ d**(1/2))/2*a\n",
    "root2= (-b- d**(1/2))/2*a\n",
    "print(\"the roots of equation are\",root1,root2)\n"
   ]
  },
  {
   "cell_type": "code",
   "execution_count": 11,
   "metadata": {},
   "outputs": [
    {
     "name": "stdin",
     "output_type": "stream",
     "text": [
      "hey how is the weather outside sunny \n"
     ]
    },
    {
     "name": "stdout",
     "output_type": "stream",
     "text": [
      "just choose between sunny or cloudy or rainy\n"
     ]
    }
   ],
   "source": [
    "weather=input(\"hey how is the weather outside\")\n",
    "if weather==\"rainy\":\n",
    "    print(\"we shouldn't go outside\")\n",
    "elif weather==\"sunny\":\n",
    "    print(\"we should go to swim\")\n",
    "elif weather==\"cloudy\":\n",
    "    print(\"lets go to play weather is cool\")\n",
    "else:\n",
    "    print(\"just choose between sunny or cloudy or rainy\")\n"
   ]
  },
  {
   "cell_type": "code",
   "execution_count": 1,
   "metadata": {},
   "outputs": [
    {
     "data": {
      "text/plain": [
       "True"
      ]
     },
     "execution_count": 1,
     "metadata": {},
     "output_type": "execute_result"
    }
   ],
   "source": [
    "True and True"
   ]
  },
  {
   "cell_type": "code",
   "execution_count": 2,
   "metadata": {},
   "outputs": [
    {
     "data": {
      "text/plain": [
       "True"
      ]
     },
     "execution_count": 2,
     "metadata": {},
     "output_type": "execute_result"
    }
   ],
   "source": [
    "True or True and False "
   ]
  },
  {
   "cell_type": "code",
   "execution_count": 3,
   "metadata": {},
   "outputs": [
    {
     "data": {
      "text/plain": [
       "True"
      ]
     },
     "execution_count": 3,
     "metadata": {},
     "output_type": "execute_result"
    }
   ],
   "source": [
    "True and False or True "
   ]
  },
  {
   "cell_type": "code",
   "execution_count": 4,
   "metadata": {},
   "outputs": [
    {
     "data": {
      "text/plain": [
       "False"
      ]
     },
     "execution_count": 4,
     "metadata": {},
     "output_type": "execute_result"
    }
   ],
   "source": [
    "not False and False "
   ]
  },
  {
   "cell_type": "code",
   "execution_count": 5,
   "metadata": {},
   "outputs": [
    {
     "data": {
      "text/plain": [
       "True"
      ]
     },
     "execution_count": 5,
     "metadata": {},
     "output_type": "execute_result"
    }
   ],
   "source": [
    "True and True and (not False)"
   ]
  },
  {
   "cell_type": "code",
   "execution_count": 6,
   "metadata": {},
   "outputs": [
    {
     "data": {
      "text/plain": [
       "True"
      ]
     },
     "execution_count": 6,
     "metadata": {},
     "output_type": "execute_result"
    }
   ],
   "source": [
    "True and True or (not False)"
   ]
  },
  {
   "cell_type": "code",
   "execution_count": 7,
   "metadata": {},
   "outputs": [
    {
     "data": {
      "text/plain": [
       "True"
      ]
     },
     "execution_count": 7,
     "metadata": {},
     "output_type": "execute_result"
    }
   ],
   "source": [
    "(True and False) and (not False) or True "
   ]
  },
  {
   "cell_type": "code",
   "execution_count": 8,
   "metadata": {},
   "outputs": [
    {
     "data": {
      "text/plain": [
       "False"
      ]
     },
     "execution_count": 8,
     "metadata": {},
     "output_type": "execute_result"
    }
   ],
   "source": [
    "(True and False) and ((not False) or True)"
   ]
  },
  {
   "cell_type": "code",
   "execution_count": null,
   "metadata": {},
   "outputs": [],
   "source": []
  }
 ],
 "metadata": {
  "kernelspec": {
   "display_name": "Python 3",
   "language": "python",
   "name": "python3"
  },
  "language_info": {
   "codemirror_mode": {
    "name": "ipython",
    "version": 3
   },
   "file_extension": ".py",
   "mimetype": "text/x-python",
   "name": "python",
   "nbconvert_exporter": "python",
   "pygments_lexer": "ipython3",
   "version": "3.8.3"
  }
 },
 "nbformat": 4,
 "nbformat_minor": 4
}
