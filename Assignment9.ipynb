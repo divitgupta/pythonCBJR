{
 "cells": [
  {
   "cell_type": "code",
   "execution_count": 2,
   "metadata": {},
   "outputs": [
    {
     "name": "stdin",
     "output_type": "stream",
     "text": [
      "Enter a number 2\n",
      "Enter a number 10\n",
      "Enter a number 3\n"
     ]
    },
    {
     "name": "stdout",
     "output_type": "stream",
     "text": [
      "10\n"
     ]
    }
   ],
   "source": [
    "def maximum(a, b, c): \n",
    "  \n",
    "    if (a >= b) and (a >= c): \n",
    "        largest = a \n",
    "  \n",
    "    elif (b >= a) and (b >= c): \n",
    "        largest = b \n",
    "    else: \n",
    "        largest = c \n",
    "          \n",
    "    return largest \n",
    "  \n",
    "  \n",
    "a = int(input(\"Enter a number\"))\n",
    "b = int(input(\"Enter a number\"))\n",
    "c = int(input(\"Enter a number\"))\n",
    "print(maximum(a, b, c)) "
   ]
  },
  {
   "cell_type": "code",
   "execution_count": 4,
   "metadata": {},
   "outputs": [
    {
     "name": "stdin",
     "output_type": "stream",
     "text": [
      "Enter a number 9099\n"
     ]
    },
    {
     "name": "stdout",
     "output_type": "stream",
     "text": [
      "9909\n"
     ]
    }
   ],
   "source": [
    "n = int(input(\"Enter a number\")) \n",
    "rev = 0\n",
    "  \n",
    "while(n > 0): \n",
    "    a = n % 10\n",
    "    rev = rev * 10 + a \n",
    "    n = n // 10\n",
    "      \n",
    "print(rev) "
   ]
  },
  {
   "cell_type": "code",
   "execution_count": null,
   "metadata": {},
   "outputs": [],
   "source": [
    "def convert0to5rec(num): \n",
    "  \n",
    "   \n",
    "    if num == 0: \n",
    "        return 0\n",
    "  \n",
    "   \n",
    "    digit = num % 10\n",
    "  \n",
    "    if digit == 0: \n",
    "        digit = 5\n",
    "  \n",
    "    \n",
    "    return convert0to5rec(num / 10) * 10 + digit \n",
    "  \n",
    "\n",
    "def convert0to5(num): \n",
    "    if num == 0: \n",
    "        return 5\n",
    "    else: \n",
    "        return convert0to5rec(num) \n",
    "  \n",
    "  \n",
    "\n",
    "num = int(input(\"Enter a number containg \"))\n",
    "print convert0to5(num) "
   ]
  }
 ],
 "metadata": {
  "kernelspec": {
   "display_name": "Python 3",
   "language": "python",
   "name": "python3"
  },
  "language_info": {
   "codemirror_mode": {
    "name": "ipython",
    "version": 3
   },
   "file_extension": ".py",
   "mimetype": "text/x-python",
   "name": "python",
   "nbconvert_exporter": "python",
   "pygments_lexer": "ipython3",
   "version": "3.8.3"
  }
 },
 "nbformat": 4,
 "nbformat_minor": 4
}
