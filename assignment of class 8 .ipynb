{
 "cells": [
  {
   "cell_type": "code",
   "execution_count": 3,
   "metadata": {},
   "outputs": [],
   "source": [
    "import math \n",
    "def inputnumbers ():\n",
    "    x=int(input(\"Enter a number:\"))\n",
    "def AskOperation():\n",
    "    return int(input(\"Add1\",\"Sub2\",\"Divide3\",\"Multiply4\",\"Factorial5\",\"Power6\",\"Floor7\",\"squareroot8\",\"percentage9\"))\n",
    "def Add1(a,b):\n",
    "    return a+b\n",
    "def Sub2(a,b):\n",
    "    return a-b\n",
    "def Divide3(a,b):\n",
    "    return a/b\n",
    "def Multiply4(a,b):\n",
    "    return a*b\n",
    "def Factorial5(a):\n",
    "    return math.factorial(a)\n",
    "def Power6(a,b):\n",
    "    return math.pow(a,y)\n",
    "def floor7(a):\n",
    "    return math.floor(a)\n",
    "def squareroot8(a):\n",
    "    return math.sqrt(a)\n",
    "def percentage9(a,b):\n",
    "    return a%b\n",
    "opt=AskOperation\n",
    "if opt==1:\n",
    "    print(Add1(inputnumbers(),inputnumbers()))\n",
    "elif opt==2:\n",
    "    print(Sub2(inputnumbers(),inputnumbers()))\n",
    "elif opt==3:\n",
    "    print(Divide3(inputnumbers(),inputnumbers()))\n",
    "elif opt==4:\n",
    "    print(Multiply4(inputnumbers(),inputnumbers()))\n",
    "elif opt==5:\n",
    "    print(Factorial5(inputnumbers()))\n",
    "elif opt==6:\n",
    "    print(Power6(inputnumbers(),inputnumbers()))\n",
    "elif opt==7:\n",
    "    print(Floor7(inputnumbers()))\n",
    "elif opt==8:\n",
    "    print(squareroot8(inputnumbers()))\n",
    "elif opt==9:\n",
    "    print(percentage9(inputnumbers(),inputnumbers()))"
   ]
  },
  {
   "cell_type": "code",
   "execution_count": null,
   "metadata": {},
   "outputs": [],
   "source": []
  }
 ],
 "metadata": {
  "kernelspec": {
   "display_name": "Python 3",
   "language": "python",
   "name": "python3"
  },
  "language_info": {
   "codemirror_mode": {
    "name": "ipython",
    "version": 3
   },
   "file_extension": ".py",
   "mimetype": "text/x-python",
   "name": "python",
   "nbconvert_exporter": "python",
   "pygments_lexer": "ipython3",
   "version": "3.8.3"
  }
 },
 "nbformat": 4,
 "nbformat_minor": 4
}
